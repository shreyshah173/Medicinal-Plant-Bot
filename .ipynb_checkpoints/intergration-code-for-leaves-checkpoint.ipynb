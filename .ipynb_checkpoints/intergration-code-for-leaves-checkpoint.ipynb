{
 "cells": [
  {
   "cell_type": "code",
   "execution_count": 35,
   "id": "90928e45",
   "metadata": {},
   "outputs": [],
   "source": [
    "import tensorflow as tf\n",
    "from tensorflow import keras\n",
    "from keras import Sequential\n",
    "from keras.layers import Dense,Flatten\n",
    "from keras.applications.vgg16 import VGG16\n",
    "from tensorflow.keras.preprocessing.image import ImageDataGenerator, array_to_img, img_to_array, load_img\n",
    "import numpy as np\n",
    "import pickle"
   ]
  },
  {
   "cell_type": "code",
   "execution_count": 46,
   "id": "759e4c96",
   "metadata": {},
   "outputs": [],
   "source": [
    "# Leaves\n",
    "image_path = r\"A:\\sih\\integration-code\\plants\\pic2-alovera.jpg\"\n",
    "labels_path = r\"A:\\sih\\integration-code\\labels_plants.pkl\"\n",
    "model_weights_path = r\"A:\\sih\\integration-code\\new_plants1.h5\""
   ]
  },
  {
   "cell_type": "code",
   "execution_count": 47,
   "id": "04fdd008",
   "metadata": {},
   "outputs": [
    {
     "name": "stdout",
     "output_type": "stream",
     "text": [
      "1/1 [==============================] - 0s 164ms/step\n"
     ]
    }
   ],
   "source": [
    "# Fetch Model\n",
    "conv_base = VGG16(\n",
    "    weights='imagenet',\n",
    "    include_top = False,\n",
    "    input_shape=(128,128,3)\n",
    ")\n",
    "\n",
    "model = Sequential()\n",
    "model.add(conv_base)\n",
    "model.add(Flatten())\n",
    "model.add(Dense(256,activation='relu'))\n",
    "model.add(Dense(128,activation='relu'))\n",
    "model.add(Dense(40,activation='softmax'))\n",
    "\n",
    "model.load_weights(model_weights_path)\n",
    "\n",
    "\n",
    "# Transform Image\n",
    "new_shape = (128, 128)\n",
    "image = tf.io.read_file(image_path)\n",
    "\n",
    "image = tf.image.decode_image(image, channels=3)\n",
    "resized_image = tf.image.resize(image, new_shape)\n",
    "\n",
    "resized_image = resized_image / 255.0\n",
    "resized_image = tf.expand_dims(resized_image, axis=0)\n",
    "\n",
    "\n",
    "# Predict\n",
    "with open(labels_path, 'rb') as file:\n",
    "    labels = pickle.load(file)\n",
    "    \n",
    "predictions = model.predict(resized_image)\n",
    "max_index = np.argmax(predictions)\n",
    "\n",
    "def find_key(dictionary, value):\n",
    "    for key, val in dictionary.items():\n",
    "        if val == value:\n",
    "            return key\n",
    "    return None\n",
    "\n",
    "ans = find_key(labels, max_index)"
   ]
  },
  {
   "cell_type": "code",
   "execution_count": 48,
   "id": "2fcecef8",
   "metadata": {},
   "outputs": [
    {
     "name": "stdout",
     "output_type": "stream",
     "text": [
      "Predicted plant is : Aloevera\n"
     ]
    }
   ],
   "source": [
    "print(f\"Predicted plant is :\", ans)"
   ]
  },
  {
   "cell_type": "code",
   "execution_count": null,
   "id": "d598a64d",
   "metadata": {},
   "outputs": [],
   "source": []
  }
 ],
 "metadata": {
  "kernelspec": {
   "display_name": "Python 3 (ipykernel)",
   "language": "python",
   "name": "python3"
  },
  "language_info": {
   "codemirror_mode": {
    "name": "ipython",
    "version": 3
   },
   "file_extension": ".py",
   "mimetype": "text/x-python",
   "name": "python",
   "nbconvert_exporter": "python",
   "pygments_lexer": "ipython3",
   "version": "3.10.3"
  }
 },
 "nbformat": 4,
 "nbformat_minor": 5
}
