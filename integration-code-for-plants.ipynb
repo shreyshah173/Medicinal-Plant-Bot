{
 "cells": [
  {
   "cell_type": "code",
   "execution_count": 1,
   "id": "d06e8f83",
   "metadata": {},
   "outputs": [],
   "source": [
    "import tensorflow as tf\n",
    "from tensorflow import keras\n",
    "from keras import Sequential\n",
    "from keras.layers import Dense,Flatten\n",
    "from keras.applications.vgg16 import VGG16\n",
    "from tensorflow.keras.preprocessing.image import ImageDataGenerator, array_to_img, img_to_array, load_img\n",
    "import numpy as np\n",
    "import pickle"
   ]
  },
  {
   "cell_type": "code",
   "execution_count": 2,
   "id": "7729d9a5",
   "metadata": {},
   "outputs": [
    {
     "name": "stdout",
     "output_type": "stream",
     "text": [
      "Image Path: D:\\MyProjects\\SIH\\backup\\backend\\public\\Images\\file_1699029207642.jpg\n"
     ]
    }
   ],
   "source": [
    "# Plants\n",
    "image_path = r\"D:\\MyProjects\\SIH\\test_data\\Amruta_Balli\\146.jpg\"\n",
    "import os\n",
    "# image_folder = r\"D:\\MyProjects\\SIH\\beginagain\\ImageToBase64-master\\backup\\backend\\public\\Images\"\n",
    "# image_folder = r\"D:\\MyProjects\\SIH\\backup\\backend\\public\\Images\"\n",
    "image_files = os.listdir(image_folder)\n",
    "if image_files:\n",
    "    image_name = image_files[0]  # Change this index if you want a different image\n",
    "    image_path = os.path.join(image_folder, image_name)\n",
    "else:\n",
    "    print(\"No images found in the folder.\")\n",
    "\n",
    "print(\"Image Path:\", image_path)\n",
    "\n",
    "labels_path = r\"D:\\MyProjects\\SIH\\Aashit\\AASHIT_SIH_WORK\\labels_plants.pkl\"\n",
    "model_weights_path = r\"D:\\MyProjects\\SIH\\Aashit\\AASHIT_SIH_WORK\\new_plants1.h5\""
   ]
  },
  {
   "cell_type": "code",
   "execution_count": 3,
   "id": "24c64f2a",
   "metadata": {},
   "outputs": [
    {
     "name": "stdout",
     "output_type": "stream",
     "text": [
      "1/1 [==============================] - 0s 391ms/step\n"
     ]
    }
   ],
   "source": [
    "# Fetch Model\n",
    "conv_base = VGG16(\n",
    "    weights='imagenet',\n",
    "    include_top = False,\n",
    "    input_shape=(128,128,3)\n",
    ")\n",
    "\n",
    "model = Sequential()\n",
    "model.add(conv_base)\n",
    "model.add(Flatten())\n",
    "model.add(Dense(256,activation='relu'))\n",
    "model.add(Dense(128,activation='relu'))\n",
    "model.add(Dense(40,activation='softmax'))\n",
    "\n",
    "model.load_weights(model_weights_path)\n",
    "\n",
    "\n",
    "# Transform Image\n",
    "new_shape = (128, 128)\n",
    "image = tf.io.read_file(image_path)\n",
    "\n",
    "image = tf.image.decode_image(image, channels=3)\n",
    "resized_image = tf.image.resize(image, new_shape)\n",
    "\n",
    "resized_image = resized_image / 255.0\n",
    "resized_image = tf.expand_dims(resized_image, axis=0)\n",
    "\n",
    "\n",
    "# Predict\n",
    "with open(labels_path, 'rb') as file:\n",
    "    labels = pickle.load(file)\n",
    "    \n",
    "predictions = model.predict(resized_image)\n",
    "max_index = np.argmax(predictions)\n",
    "\n",
    "def find_key(dictionary, value):\n",
    "    for key, val in dictionary.items():\n",
    "        if val == value:\n",
    "            return key\n",
    "    return None\n",
    "\n",
    "ans = find_key(labels, max_index)"
   ]
  },
  {
   "cell_type": "code",
   "execution_count": 4,
   "id": "8bb15e7b",
   "metadata": {},
   "outputs": [
    {
     "name": "stdout",
     "output_type": "stream",
     "text": [
      "Predicted plant is : Amruta_Balli\n"
     ]
    }
   ],
   "source": [
    "# image_folder = r\"D:\\MyProjects\\SIH\\beginagain\\ImageToBase64-master\\backup\\backend\\public\\Images\"\n",
    "image_folder = r\"D:\\MyProjects\\SIH\\backup\\backend\\public\\Images\"\n",
    "\n",
    "\n",
    "image_files = os.listdir(image_folder)\n",
    "for image_name in image_files:\n",
    "    image_path = os.path.join(image_folder, image_name)\n",
    "    if os.path.isfile(image_path):\n",
    "        os.remove(image_path)\n",
    "\n",
    "print(f\"Predicted plant is :\", ans)"
   ]
  },
  {
   "cell_type": "code",
   "execution_count": null,
   "id": "bc837cec",
   "metadata": {},
   "outputs": [],
   "source": []
  },
  {
   "cell_type": "code",
   "execution_count": null,
   "id": "66a4a4fe-c96f-4c1f-98f1-7467867a8cb0",
   "metadata": {},
   "outputs": [],
   "source": []
  }
 ],
 "metadata": {
  "kernelspec": {
   "display_name": "Python 3 (ipykernel)",
   "language": "python",
   "name": "python3"
  },
  "language_info": {
   "codemirror_mode": {
    "name": "ipython",
    "version": 3
   },
   "file_extension": ".py",
   "mimetype": "text/x-python",
   "name": "python",
   "nbconvert_exporter": "python",
   "pygments_lexer": "ipython3",
   "version": "3.11.0"
  }
 },
 "nbformat": 4,
 "nbformat_minor": 5
}
